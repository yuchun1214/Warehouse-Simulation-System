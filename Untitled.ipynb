{
 "cells": [
  {
   "cell_type": "code",
   "execution_count": 1,
   "id": "spatial-consistency",
   "metadata": {},
   "outputs": [],
   "source": [
    "import pandas as pd\n",
    "import numpy as np"
   ]
  },
  {
   "cell_type": "code",
   "execution_count": 10,
   "id": "fewer-ethics",
   "metadata": {},
   "outputs": [],
   "source": [
    "data = pd.read_excel(\"./1_2F_distance.xlsx\",sheet_name=1, index_col=0)"
   ]
  },
  {
   "cell_type": "code",
   "execution_count": 12,
   "id": "baking-watershed",
   "metadata": {},
   "outputs": [],
   "source": [
    "order = [1, 23, 35, 59, 69, 49, 26]\n",
    "order = sorted(order)"
   ]
  },
  {
   "cell_type": "code",
   "execution_count": 13,
   "id": "introductory-round",
   "metadata": {},
   "outputs": [
    {
     "data": {
      "text/plain": [
       "[1, 23, 26, 35, 49, 59, 69]"
      ]
     },
     "execution_count": 13,
     "metadata": {},
     "output_type": "execute_result"
    }
   ],
   "source": [
    "order"
   ]
  },
  {
   "cell_type": "code",
   "execution_count": 25,
   "id": "threatened-compensation",
   "metadata": {},
   "outputs": [],
   "source": [
    "# 1F\n",
    "sequence = []\n",
    "sequence += [i for i in order if i < 25]\n",
    "sequence += [i for i in order if i <= 44 and i >= 31]\n",
    "sequence += [i for i in order if i <= 66 and i >= 51]\n",
    "sequence += [i for i in order if i <= 90 and i >= 67]\n",
    "sequence += [i for i in order if i <= 50 and i >= 45]\n",
    "sequence += [i for i in order if i <= 30 and i >= 25]\n"
   ]
  },
  {
   "cell_type": "code",
   "execution_count": 26,
   "id": "discrete-pathology",
   "metadata": {},
   "outputs": [
    {
     "data": {
      "text/plain": [
       "[1, 23, 35, 59, 69, 49, 26]"
      ]
     },
     "execution_count": 26,
     "metadata": {},
     "output_type": "execute_result"
    }
   ],
   "source": [
    "sequence"
   ]
  },
  {
   "cell_type": "code",
   "execution_count": 23,
   "id": "referenced-formula",
   "metadata": {},
   "outputs": [],
   "source": [
    "sequence = []\n",
    "sequence = part1 + part2 + part3"
   ]
  },
  {
   "cell_type": "code",
   "execution_count": 24,
   "id": "domestic-minneapolis",
   "metadata": {},
   "outputs": [
    {
     "data": {
      "text/plain": [
       "[1, 23, 35, 59]"
      ]
     },
     "execution_count": 24,
     "metadata": {},
     "output_type": "execute_result"
    }
   ],
   "source": [
    "sequence"
   ]
  },
  {
   "cell_type": "code",
   "execution_count": null,
   "id": "polish-enzyme",
   "metadata": {},
   "outputs": [],
   "source": []
  }
 ],
 "metadata": {
  "kernelspec": {
   "display_name": "Python 3",
   "language": "python",
   "name": "python3"
  },
  "language_info": {
   "codemirror_mode": {
    "name": "ipython",
    "version": 3
   },
   "file_extension": ".py",
   "mimetype": "text/x-python",
   "name": "python",
   "nbconvert_exporter": "python",
   "pygments_lexer": "ipython3",
   "version": "3.9.1"
  }
 },
 "nbformat": 4,
 "nbformat_minor": 5
}
